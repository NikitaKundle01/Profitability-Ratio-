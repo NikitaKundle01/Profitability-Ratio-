{
 "cells": [
  {
   "cell_type": "code",
   "execution_count": 1,
   "id": "43288b8c-138e-4ed9-8a32-cb3fcf800675",
   "metadata": {},
   "outputs": [],
   "source": [
    "class ProfitabilityRatios:\n",
    "    def __init__(self, net_income, revenue, total_assets, equity):\n",
    "        self.net_income = net_income\n",
    "        self.revenue = revenue\n",
    "        self.total_assets = total_assets\n",
    "        self.equity = equity"
   ]
  },
  {
   "cell_type": "code",
   "execution_count": 2,
   "id": "7d285c21-064c-4602-87e6-b838ce261a5b",
   "metadata": {},
   "outputs": [],
   "source": [
    "def gross_profit_margin(self, gross_profit):\n",
    "        \"\"\"Calculates Gross Profit Margin.\"\"\"\n",
    "        return (gross_profit / self.revenue) * 100"
   ]
  },
  {
   "cell_type": "code",
   "execution_count": 3,
   "id": "831b3b93-61c9-4486-86b5-6c640a5daa80",
   "metadata": {},
   "outputs": [],
   "source": [
    "def net_profit_margin(self):\n",
    "        \"\"\"Calculates Net Profit Margin.\"\"\"\n",
    "        return (self.net_income / self.revenue) * 100"
   ]
  },
  {
   "cell_type": "code",
   "execution_count": 4,
   "id": "b5f29ec6-d7f4-4a85-a44f-9a593bda6330",
   "metadata": {},
   "outputs": [],
   "source": [
    "def return_on_assets(self):\n",
    "        \"\"\"Calculates Return on Assets (ROA).\"\"\"\n",
    "        return (self.net_income / self.total_assets) * 100\n"
   ]
  },
  {
   "cell_type": "code",
   "execution_count": 5,
   "id": "14f82a1c-b503-4362-9855-ff8378bf61f6",
   "metadata": {},
   "outputs": [],
   "source": [
    "\n",
    "    def return_on_equity(self):\n",
    "        \"\"\"Calculates Return on Equity (ROE).\"\"\"\n",
    "        return (self.net_income / self.equity) * 100\n"
   ]
  },
  {
   "cell_type": "code",
   "execution_count": 6,
   "id": "62570b3a-9077-45ff-849e-4074043fbcdd",
   "metadata": {},
   "outputs": [],
   "source": [
    "def main():\n",
    "    print(\"Profitability Ratios Analysis App\")\n",
    "    try:\n",
    "        net_income = float(input(\"Enter the net income ($): \"))\n",
    "        revenue = float(input(\"Enter the total revenue ($): \"))\n",
    "        total_assets = float(input(\"Enter the total assets ($): \"))\n",
    "        equity = float(input(\"Enter the shareholder's equity ($): \"))\n",
    "        gross_profit = float(input(\"Enter the gross profit ($): \"))\n",
    "\n",
    "        ratios = ProfitabilityRatios(net_income, revenue, total_assets, equity)\n",
    "\n",
    "        print(\"\\n--- Profitability Ratios ---\")\n",
    "        print(f\"Gross Profit Margin: {ratios.gross_profit_margin(gross_profit):.2f}%\")\n",
    "        print(f\"Net Profit Margin: {ratios.net_profit_margin():.2f}%\")\n",
    "        print(f\"Return on Assets (ROA): {ratios.return_on_assets():.2f}%\")\n",
    "        print(f\"Return on Equity (ROE): {ratios.return_on_equity():.2f}%\")\n",
    "\n",
    "    except ValueError:\n",
    "        print(\"Invalid input. Please enter numeric values.\")\n"
   ]
  },
  {
   "cell_type": "code",
   "execution_count": null,
   "id": "0a3d0abb-448a-4a5f-a6af-c4be7029c823",
   "metadata": {},
   "outputs": [
    {
     "name": "stdout",
     "output_type": "stream",
     "text": [
      "Profitability Ratios Analysis App\n"
     ]
    }
   ],
   "source": [
    "if __name__ == \"__main__\":\n",
    "    main()\n"
   ]
  },
  {
   "cell_type": "code",
   "execution_count": null,
   "id": "0b068c2a-2cfb-402b-a053-99c624c8417f",
   "metadata": {},
   "outputs": [],
   "source": []
  }
 ],
 "metadata": {
  "kernelspec": {
   "display_name": "Python 3 (ipykernel)",
   "language": "python",
   "name": "python3"
  },
  "language_info": {
   "codemirror_mode": {
    "name": "ipython",
    "version": 3
   },
   "file_extension": ".py",
   "mimetype": "text/x-python",
   "name": "python",
   "nbconvert_exporter": "python",
   "pygments_lexer": "ipython3",
   "version": "3.12.4"
  }
 },
 "nbformat": 4,
 "nbformat_minor": 5
}
